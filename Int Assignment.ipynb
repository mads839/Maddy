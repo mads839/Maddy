{
 "cells": [
  {
   "cell_type": "code",
   "execution_count": 3,
   "metadata": {},
   "outputs": [
    {
     "name": "stdout",
     "output_type": "stream",
     "text": [
      "<class 'int'>\n",
      "140711841769536\n"
     ]
    }
   ],
   "source": [
    "#Declare an int value and store it in a variable.Check the type and print the id of the same.\n",
    "a = 10\n",
    "print (type(a))\n",
    "print (id (a))"
   ]
  },
  {
   "cell_type": "code",
   "execution_count": 4,
   "metadata": {},
   "outputs": [
    {
     "name": "stdout",
     "output_type": "stream",
     "text": [
      "140711841769536\n",
      "140711841769536\n"
     ]
    }
   ],
   "source": [
    "##Take one int value between 0 - 256.Assign it to two different variables.Check the id of both the variables.\n",
    "##It should come the same. Check why?\n",
    "a = 10\n",
    "b = 10\n",
    "print(id(a))\n",
    "print(id(b))\n",
    "# The concept of object reusability (-5 to 256)"
   ]
  },
  {
   "cell_type": "code",
   "execution_count": 1,
   "metadata": {},
   "outputs": [
    {
     "name": "stdout",
     "output_type": "stream",
     "text": [
      "864066370416\n",
      "864066370480\n"
     ]
    }
   ],
   "source": [
    "#Take one int value either less than -5 or greater than 256.Assign it to two different variables.\n",
    "#Check the id of both the variables. It should come different.Check why?\n",
    "a = -6\n",
    "b = -6\n",
    "print(id(b))\n",
    "print(id(a))\n",
    "# object reusability is not applicable for lesser than -5 or greater than 256"
   ]
  },
  {
   "cell_type": "code",
   "execution_count": 8,
   "metadata": {},
   "outputs": [
    {
     "name": "stdout",
     "output_type": "stream",
     "text": [
      "0\n",
      "4\n",
      "4\n",
      "1.0\n",
      "0\n",
      "1\n",
      "4\n"
     ]
    }
   ],
   "source": [
    "##Arithmetic Operations on integer data.Take two different boolean values.Store them in two different variables.\n",
    "#Do below operations on them:-\n",
    "    #Find sum of both values\n",
    "#Find difference between them\n",
    "#Find the product of both.\n",
    "#Find value after dividing first value with second value\n",
    "#Find the remainder after dividing first value with second value\n",
    "#Find the quotient after dividing first value with second value\n",
    "#Find the result of first value to the power of second value.\n",
    "a = 2\n",
    "b = 2\n",
    "print(a-b)\n",
    "print(a+b)\n",
    "print(a*b)\n",
    "print(a/b)\n",
    "print(a%b)\n",
    "print(a//b)\n",
    "print(a**b)"
   ]
  },
  {
   "cell_type": "code",
   "execution_count": 1,
   "metadata": {},
   "outputs": [
    {
     "name": "stdout",
     "output_type": "stream",
     "text": [
      "x > y: True\n",
      "x < y: False\n",
      "x <= y: False\n",
      "x >= y: True\n"
     ]
    }
   ],
   "source": [
    "#Comparison Operators on int values.Take two different boolean values.Store them in two different variables.\n",
    "#Do below operations on them:-\n",
    "#Compare these two values with below operator :-Greater than, '>',less than, '<',Greater than or equal to, '>=',\n",
    "# Less than or equal to,'<=',Observe their output(return type should be boolean)\n",
    "x = 8\n",
    "y = 5\n",
    "print(\"x > y:\", x > y)\n",
    "print(\"x < y:\", x < y)\n",
    "print(\"x <= y:\", x <= y)\n",
    "print(\"x >= y:\", x >= y)"
   ]
  },
  {
   "cell_type": "code",
   "execution_count": 10,
   "metadata": {},
   "outputs": [
    {
     "name": "stdout",
     "output_type": "stream",
     "text": [
      "x == y: False\n",
      "x != y: True\n"
     ]
    }
   ],
   "source": [
    "#Equality Operator Take two different int values.Store them in two different variables.\n",
    "#Equate them using equality operators (==, !=)Observe the output(return type should be boolean)\n",
    "x = 8\n",
    "y = 5\n",
    "print(\"x == y:\", x == y)\n",
    "print(\"x != y:\", x != y)"
   ]
  },
  {
   "cell_type": "code",
   "execution_count": 3,
   "metadata": {},
   "outputs": [
    {
     "name": "stdout",
     "output_type": "stream",
     "text": [
      "20\n",
      "0\n",
      "0\n",
      "0\n",
      "10\n",
      "20\n",
      "20\n",
      "0\n",
      "False\n",
      "True\n"
     ]
    }
   ],
   "source": [
    "#Logical operators.Observe the output of below code\n",
    "print ( 10 and 20 )\n",
    "print ( 0 and 20 )\n",
    "print ( 20 and 0 )\n",
    "print ( 0 and 0 )\n",
    "print ( 10 or 20 )\n",
    "print ( 0 or 20 )\n",
    "print ( 20 or 0 )\n",
    "print ( 0 or 0 )\n",
    "print ( not 10 )\n",
    "print ( not 0 )"
   ]
  },
  {
   "cell_type": "code",
   "execution_count": 7,
   "metadata": {},
   "outputs": [
    {
     "name": "stdout",
     "output_type": "stream",
     "text": [
      "0\n",
      "30\n",
      "30\n",
      "9\n",
      "40\n",
      "2\n"
     ]
    }
   ],
   "source": [
    "# Bitwise Operators.Do below operations on the values provided below:-\n",
    "print(10 & 20)\n",
    "print(10 | 20)\n",
    "print(10 ^ 20)\n",
    "print(~ 10)\n",
    "print(10 << 2)\n",
    "print(10 >> 2)"
   ]
  },
  {
   "cell_type": "code",
   "execution_count": 9,
   "metadata": {},
   "outputs": [
    {
     "name": "stdout",
     "output_type": "stream",
     "text": [
      "True\n",
      "False\n",
      "False\n",
      "True\n"
     ]
    }
   ],
   "source": [
    "#What is the output of expression inside print statement. Cross check.before running the program.\n",
    "a = 10\n",
    "b = 10\n",
    "print(a is b) \n",
    "print(a is not b) \n",
    "a = 1000\n",
    "b = 1000\n",
    "print(a is b) \n",
    "print(a is not b)\n",
    "# is and is not are Identity operator ,so these are working on id only not on assigned value ."
   ]
  },
  {
   "cell_type": "code",
   "execution_count": 20,
   "metadata": {},
   "outputs": [
    {
     "name": "stdout",
     "output_type": "stream",
     "text": [
      "20\n"
     ]
    }
   ],
   "source": [
    "#What is the output of expression inside print statement. Cross check.before running the program.\n",
    "print ( 10 +( 10 * 32 )// 2 ** 5 & 20 +(~( -10 ))<< 2 )"
   ]
  },
  {
   "cell_type": "code",
   "execution_count": 22,
   "metadata": {},
   "outputs": [
    {
     "name": "stdout",
     "output_type": "stream",
     "text": [
      "True\n",
      "True\n",
      "True\n",
      "True\n",
      "True\n",
      "True\n"
     ]
    }
   ],
   "source": [
    "#Membership operation. in, not in are two membership operators and it returns boolean value\n",
    "print ( '2' in 'Python2.7.8' )\n",
    "print ( 10 in [ 10 , 10.20 , 10 + 20j , 'Python' ])\n",
    "print ( 10 in ( 10 , 10.20 , 10 + 20j , 'Python' ))\n",
    "print ( 2 in { 1 , 2 , 3 })\n",
    "print ( 3 in { 1 : 100 , 2 : 200 , 3 : 300 })\n",
    "print ( 10 in range ( 20 ))"
   ]
  },
  {
   "cell_type": "code",
   "execution_count": 42,
   "metadata": {},
   "outputs": [
    {
     "name": "stdout",
     "output_type": "stream",
     "text": [
      "2\n",
      "7\n",
      "11\n",
      "0b10011010010100\n",
      "0o23224\n",
      "0x2694\n"
     ]
    }
   ],
   "source": [
    "#An integer can be represented in binary, octal or hexadecimal form.Declare one binary, one octal and one hexadecimal value and store them\n",
    "#in three different variables.\n",
    "#Convert 9876 to its binary, octal and hexadecimal equivalent and print their corresponding value.\n",
    "a = 0b10\n",
    "b = 0o7\n",
    "c = 0xb\n",
    "print(a)\n",
    "print(b)\n",
    "print(c)\n",
    "print(bin (9876))\n",
    "print(oct(9876))\n",
    "print(hex(9876))\n"
   ]
  },
  {
   "cell_type": "code",
   "execution_count": 30,
   "metadata": {},
   "outputs": [
    {
     "name": "stdout",
     "output_type": "stream",
     "text": [
      "80\n",
      "3870\n",
      "64222\n",
      "0b1010000\n",
      "0o7436\n",
      "0xfade\n",
      "0b1010000\n",
      "0b1111101011011110\n",
      "0o175336\n",
      "0o7436\n",
      "0x50\n",
      "0xfade\n"
     ]
    }
   ],
   "source": [
    "#What will be the output of following:-\n",
    "a = 0b1010000\n",
    "print (a)\n",
    "b = 0o7436\n",
    "print (b)\n",
    "c = 0xfade\n",
    "print (c)\n",
    "print ( bin ( 80 ))\n",
    "print ( oct ( 3870 ))\n",
    "print ( hex ( 64222 ))\n",
    "print ( bin ( 0b1010000))\n",
    "print ( bin ( 0xfade ))\n",
    "print ( oct ( 0xfade ))\n",
    "print ( oct ( 0o7436))\n",
    "print ( hex ( 0b1010000))\n",
    "print ( hex ( 0xfade ))"
   ]
  },
  {
   "cell_type": "code",
   "execution_count": null,
   "metadata": {},
   "outputs": [],
   "source": []
  }
 ],
 "metadata": {
  "kernelspec": {
   "display_name": "Python 3",
   "language": "python",
   "name": "python3"
  },
  "language_info": {
   "codemirror_mode": {
    "name": "ipython",
    "version": 3
   },
   "file_extension": ".py",
   "mimetype": "text/x-python",
   "name": "python",
   "nbconvert_exporter": "python",
   "pygments_lexer": "ipython3",
   "version": "3.8.8"
  }
 },
 "nbformat": 4,
 "nbformat_minor": 4
}
