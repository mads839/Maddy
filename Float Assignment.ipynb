{
 "cells": [
  {
   "cell_type": "code",
   "execution_count": 1,
   "metadata": {},
   "outputs": [
    {
     "name": "stdout",
     "output_type": "stream",
     "text": [
      "<class 'float'>\n",
      "873221763184\n"
     ]
    }
   ],
   "source": [
    "#Declare an int value and store it in a variable.Check the type and print the id of the same.\n",
    "a = 10.5\n",
    "print (type(a))\n",
    "print (id (a))"
   ]
  },
  {
   "cell_type": "code",
   "execution_count": 2,
   "metadata": {},
   "outputs": [
    {
     "name": "stdout",
     "output_type": "stream",
     "text": [
      "2.5\n",
      "6.5\n",
      "9.0\n",
      "2.25\n",
      "0.5\n",
      "2.0\n",
      "20.25\n"
     ]
    }
   ],
   "source": [
    "##Arithmetic Operations on Float data.Take two different boolean values.Store them in two different variables.\n",
    "#Do below operations on them:-\n",
    "    #Find sum of both values\n",
    "#Find difference between them\n",
    "#Find the product of both.\n",
    "#Find value after dividing first value with second value\n",
    "#Find the remainder after dividing first value with second value\n",
    "#Find the quotient after dividing first value with second value\n",
    "#Find the result of first value to the power of second value.\n",
    "a =4.5\n",
    "b = 2\n",
    "print(a-b)\n",
    "print(a+b)\n",
    "print(a*b)\n",
    "print(a/b)\n",
    "print(a%b)\n",
    "print(a//b)\n",
    "print(a**b)"
   ]
  },
  {
   "cell_type": "code",
   "execution_count": 3,
   "metadata": {},
   "outputs": [
    {
     "name": "stdout",
     "output_type": "stream",
     "text": [
      "x > y: True\n",
      "x < y: False\n",
      "x <= y: False\n",
      "x >= y: True\n"
     ]
    }
   ],
   "source": [
    "#Comparison Operators on int values.Take two different boolean values.Store them in two different variables.\n",
    "#Do below operations on them:-\n",
    "#Compare these two values with below operator :-Greater than, '>',less than, '<',Greater than or equal to, '>=',\n",
    "# Less than or equal to,'<=',Observe their output(return type should be boolean)\n",
    "x = 8.2\n",
    "y = 5.5\n",
    "print(\"x > y:\", x > y)\n",
    "print(\"x < y:\", x < y)\n",
    "print(\"x <= y:\", x <= y)\n",
    "print(\"x >= y:\", x >= y)"
   ]
  },
  {
   "cell_type": "code",
   "execution_count": 4,
   "metadata": {},
   "outputs": [
    {
     "name": "stdout",
     "output_type": "stream",
     "text": [
      "x == y: True\n",
      "x != y: False\n"
     ]
    }
   ],
   "source": [
    "#Equality Operator Take two different int values.Store them in two different variables.\n",
    "#Equate them using equality operators (==, !=)Observe the output(return type should be boolean)\n",
    "x = 5.5\n",
    "y = 5.5\n",
    "print(\"x == y:\", x == y)\n",
    "print(\"x != y:\", x != y)"
   ]
  },
  {
   "cell_type": "code",
   "execution_count": 2,
   "metadata": {},
   "outputs": [
    {
     "name": "stdout",
     "output_type": "stream",
     "text": [
      "20.3\n",
      "0.0\n",
      "0.0\n",
      "0.0\n",
      "10.2\n",
      "20.3\n",
      "20.3\n",
      "0.0\n",
      "False\n",
      "True\n"
     ]
    }
   ],
   "source": [
    "#Logical operators.Observe the output of below code.Cross check the output manually\n",
    "print ( 10.20 and 20.30 )\n",
    "print ( 0.0 and 20.30 )\n",
    "print ( 20.30 and 0.0 ) #Goes to till second and second value is\n",
    "print ( 0.0 and 0.0 )\n",
    "print ( 10.20 or 20.30 )\n",
    "print ( 0.0 or 20.30 )\n",
    "print ( 20.30 or 0.0 )\n",
    "print ( 0.0 or 0.0 )\n",
    "print ( not 10.20 )\n",
    "print ( not 0 )\n"
   ]
  },
  {
   "cell_type": "code",
   "execution_count": 10,
   "metadata": {},
   "outputs": [
    {
     "name": "stdout",
     "output_type": "stream",
     "text": [
      "False\n",
      "True\n",
      "873236495184\n",
      "873236494640\n"
     ]
    }
   ],
   "source": [
    "#What is the output of expression inside print statement. Cross check before running the program.\n",
    "a = 10.20\n",
    "b = 10.20\n",
    "print (a is b) #True or False? True 10.20<256\n",
    "print (a is not b)\n",
    "print(id(a))\n",
    "print(id(b))\n",
    "#Object Reusability is not applicble on floats  (-5 to 256)"
   ]
  },
  {
   "cell_type": "code",
   "execution_count": 11,
   "metadata": {},
   "outputs": [
    {
     "name": "stdout",
     "output_type": "stream",
     "text": [
      "True\n",
      "True\n",
      "True\n",
      "True\n",
      "True\n",
      "True\n"
     ]
    }
   ],
   "source": [
    "#Membership operation\n",
    "#in, not in are two membership operators and it returns boolean value\n",
    "print ( '2.7' in 'Python2.7.8' ) #True\n",
    "print ( 10.20 in [ 10 , 10.20 , 10 + 20j , 'Python' ]) #True\n",
    "print ( 10.20 in ( 10 , 10.20 , 10 + 20j , 'Python' )) # True\n",
    "print ( 20.30 in { 1 , 20.30 , 30 + 40j }) # True\n",
    "print ( 2.3 in { 1 : 100 , 2.3 : 200 , 30 + 40j : 300 }) # True\n",
    "print ( 10 in range ( 20 )) # True"
   ]
  },
  {
   "cell_type": "code",
   "execution_count": null,
   "metadata": {},
   "outputs": [],
   "source": []
  }
 ],
 "metadata": {
  "kernelspec": {
   "display_name": "Python 3",
   "language": "python",
   "name": "python3"
  },
  "language_info": {
   "codemirror_mode": {
    "name": "ipython",
    "version": 3
   },
   "file_extension": ".py",
   "mimetype": "text/x-python",
   "name": "python",
   "nbconvert_exporter": "python",
   "pygments_lexer": "ipython3",
   "version": "3.8.8"
  }
 },
 "nbformat": 4,
 "nbformat_minor": 4
}
