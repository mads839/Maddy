{
 "cells": [
  {
   "cell_type": "code",
   "execution_count": 8,
   "metadata": {},
   "outputs": [
    {
     "name": "stdout",
     "output_type": "stream",
     "text": [
      "<class 'bool'>\n",
      "140711841486672\n"
     ]
    }
   ],
   "source": [
    "##Declare a boolean value and store it in a variable.Check the type and print the id of the same\n",
    "a = True\n",
    "print(type(a))\n",
    "print(id(a))\n"
   ]
  },
  {
   "cell_type": "code",
   "execution_count": 6,
   "metadata": {
    "scrolled": true
   },
   "outputs": [
    {
     "name": "stdout",
     "output_type": "stream",
     "text": [
      "140711844960080\n",
      "140711844960080\n",
      "140711844960080\n",
      "140711844960112\n"
     ]
    }
   ],
   "source": [
    "##Take one Int value between 0 - 256.Assign it to two different variables.Check the id of both the variables.\n",
    "##It should come the same. Check why?\n",
    "\n",
    "a = (bool(255))\n",
    "b = (bool(2))\n",
    "print(id(a))\n",
    "print(id(b))\n",
    "c=(bool(-1))\n",
    "d=False\n",
    "print(id(c))\n",
    "print(id(d))\n",
    "\n",
    "#This is the concept of object reusability (-5 to 256)"
   ]
  },
  {
   "cell_type": "code",
   "execution_count": 19,
   "metadata": {},
   "outputs": [
    {
     "name": "stdout",
     "output_type": "stream",
     "text": [
      "0\n",
      "2\n",
      "1\n",
      "1.0\n",
      "0\n",
      "1\n",
      "1\n"
     ]
    }
   ],
   "source": [
    "##Arithmetic Operations on boolean data.Take two different boolean values.Store them in two different variables.\n",
    "#Do below operations on them:-\n",
    "    #Find sum of both values\n",
    "#Find difference between them\n",
    "#Find the product of both.\n",
    "#Find value after dividing first value with second value\n",
    "#Find the remainder after dividing first value with second value\n",
    "#Find the quotient after dividing first value with second value\n",
    "#Find the result of first value to the power of second value.\n",
    "a = (bool(20))\n",
    "b = (bool(10))\n",
    "print(a-b)\n",
    "print(a+b)\n",
    "print(a*b)\n",
    "print(a/b)\n",
    "print(a%b)\n",
    "print(a//b)\n",
    "print(a**b)"
   ]
  },
  {
   "cell_type": "code",
   "execution_count": 1,
   "metadata": {},
   "outputs": [
    {
     "name": "stdout",
     "output_type": "stream",
     "text": [
      "x > y: False\n",
      "x < y: False\n",
      "x <= y: True\n",
      "x >= y: True\n"
     ]
    }
   ],
   "source": [
    "#Comparison Operators on boolean values.Take two different boolean values.Store them in two different variables.\n",
    "#Do below operations on them:-\n",
    "#Compare these two values with below operator :-Greater than, '>',less than, '<',Greater than or equal to, '>=',\n",
    "# Less than or equal to,'<=',Observe their output(return type should be boolean)\n",
    "x = bool(8)\n",
    "y = bool(5)\n",
    "print(\"x > y:\", x > y)\n",
    "print(\"x < y:\", x < y)\n",
    "print(\"x <= y:\", x <= y)\n",
    "print(\"x >= y:\", x >= y)"
   ]
  },
  {
   "cell_type": "code",
   "execution_count": 2,
   "metadata": {},
   "outputs": [
    {
     "name": "stdout",
     "output_type": "stream",
     "text": [
      "x == y: True\n",
      "x != y: False\n"
     ]
    }
   ],
   "source": [
    "#Equality Operator Take two different boolean values.Store them in two different variables.\n",
    "#Equate them using equality operators (==, !=)Observe the output(return type should be boolean)\n",
    "x =bool(8)\n",
    "y =bool(5)\n",
    "print(\"x == y:\", x == y)\n",
    "print(\"x != y:\", x != y)"
   ]
  },
  {
   "cell_type": "code",
   "execution_count": 26,
   "metadata": {},
   "outputs": [
    {
     "name": "stdout",
     "output_type": "stream",
     "text": [
      "True\n",
      "False\n",
      "False\n",
      "False\n",
      "True\n",
      "True\n",
      "True\n",
      "False\n",
      "False\n",
      "True\n"
     ]
    }
   ],
   "source": [
    "#Logical operators#Observe the output of below codeCross check the output manually\n",
    "print ( True and True )\n",
    "print ( False and True )\n",
    "print ( True and False )\n",
    "print ( False and False )\n",
    "print ( True or True )\n",
    "print ( False or True )\n",
    "print ( True or False )\n",
    "print ( False or False )\n",
    "print ( not True )\n",
    "print ( not False )"
   ]
  },
  {
   "cell_type": "code",
   "execution_count": 5,
   "metadata": {},
   "outputs": [
    {
     "name": "stdout",
     "output_type": "stream",
     "text": [
      "True\n",
      "True\n",
      "True\n",
      "-2\n",
      "4\n",
      "0\n"
     ]
    }
   ],
   "source": [
    "#Bitwise Operators.Do below operations on the values provided below:-\n",
    "print(True & True)\n",
    "print(True | False)\n",
    "print(True ^ False)\n",
    "print(~ True)\n",
    "print(True << 2)\n",
    "print(True >> 2)\n"
   ]
  },
  {
   "cell_type": "code",
   "execution_count": 38,
   "metadata": {},
   "outputs": [
    {
     "name": "stdout",
     "output_type": "stream",
     "text": [
      "True\n",
      "False\n",
      "True\n",
      "False\n"
     ]
    }
   ],
   "source": [
    "#What is the output of expression inside the print statement. Cross check before running the program.\n",
    "a = True\n",
    "b = True\n",
    "print (a is b) #True or False? #\n",
    "print (a is not b) #True or False?\n",
    "a = False\n",
    "b = False\n",
    "print (a is b) #True or False?\n",
    "print (a is not b) #True or False?"
   ]
  },
  {
   "cell_type": "code",
   "execution_count": 42,
   "metadata": {},
   "outputs": [
    {
     "name": "stdout",
     "output_type": "stream",
     "text": [
      "False\n",
      "True\n",
      "True\n",
      "True\n",
      "True\n"
     ]
    }
   ],
   "source": [
    "#Membership operation .in, not in are two membership operators and it returns boolean value\n",
    "print ( 10 not in [ 10 , 10.20 , 10 + 20j , 'Python' , True ])\n",
    "print ( False in ( 10 , 10.20 , 10 + 20j , 'Python' , False ))\n",
    "print ( True in { 1 , 2 , 3 , True })\n",
    "print ( True in { True : 100 , False : 200 , True : 300 })\n",
    "print ( False in { True : 100 , False : 200 , True : 300 })\n"
   ]
  }
 ],
 "metadata": {
  "kernelspec": {
   "display_name": "Python 3",
   "language": "python",
   "name": "python3"
  },
  "language_info": {
   "codemirror_mode": {
    "name": "ipython",
    "version": 3
   },
   "file_extension": ".py",
   "mimetype": "text/x-python",
   "name": "python",
   "nbconvert_exporter": "python",
   "pygments_lexer": "ipython3",
   "version": "3.8.8"
  }
 },
 "nbformat": 4,
 "nbformat_minor": 4
}
